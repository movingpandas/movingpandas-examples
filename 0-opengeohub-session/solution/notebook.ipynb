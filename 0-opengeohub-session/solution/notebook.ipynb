{
 "cells": [
  {
   "cell_type": "code",
   "execution_count": null,
   "metadata": {},
   "outputs": [],
   "source": [
    "import pandas as pd\n",
    "import geopandas as gpd\n",
    "import movingpandas as mpd\n",
    "import datashader as ds\n",
    "from hvplot import pandas\n",
    "from holoviews import opts #, dim \n",
    "from holoviews.element import tiles\n",
    "from datetime import datetime, timedelta"
   ]
  },
  {
   "cell_type": "code",
   "execution_count": null,
   "metadata": {},
   "outputs": [],
   "source": [
    "opts.defaults(opts.Overlay(active_tools=['wheel_zoom'], frame_width=700, frame_height=300))\n",
    "\n",
    "BG_TILES = tiles.CartoLight()\n",
    "EVERID = 235"
   ]
  },
  {
   "cell_type": "code",
   "execution_count": null,
   "metadata": {},
   "outputs": [],
   "source": [
    "df = pd.read_csv('data/boat-positions.csv', parse_dates=True)\n",
    "df['t'] = pd.to_datetime(df['t'], format='%d/%m/%Y %H:%M')\n",
    "df"
   ]
  },
  {
   "cell_type": "code",
   "execution_count": null,
   "metadata": {},
   "outputs": [],
   "source": [
    "tmp = df.copy()\n",
    "tmp.loc[:, 'x'], tmp.loc[:, 'y'] = ds.utils.lnglat_to_meters(tmp.lon, tmp.lat)\n",
    "BG_TILES * tmp.hvplot.scatter(title='Density map', x='x', y='y', datashade=True)"
   ]
  },
  {
   "cell_type": "code",
   "execution_count": null,
   "metadata": {},
   "outputs": [],
   "source": [
    "tc = mpd.TrajectoryCollection(df, 'id', t='t', x='lon', y='lat', crs=4326)\n",
    "tc"
   ]
  },
  {
   "cell_type": "code",
   "execution_count": null,
   "metadata": {},
   "outputs": [],
   "source": [
    "tc.to_traj_gdf().hvplot(title='All trajectories', geo=True, tiles='OSM')"
   ]
  },
  {
   "cell_type": "code",
   "execution_count": null,
   "metadata": {},
   "outputs": [],
   "source": [
    "tc.get_trajectory(1)#.hvplot(geo=True)"
   ]
  },
  {
   "cell_type": "code",
   "execution_count": null,
   "metadata": {},
   "outputs": [],
   "source": [
    "tc.add_speed(units=('km','h'))"
   ]
  },
  {
   "cell_type": "code",
   "execution_count": null,
   "metadata": {},
   "outputs": [],
   "source": [
    "df.id.max()"
   ]
  },
  {
   "cell_type": "code",
   "execution_count": null,
   "metadata": {},
   "outputs": [],
   "source": [
    "traj_id = 15\n",
    "tc.get_trajectory(traj_id).hvplot(title=f'Trajectory {traj_id}', c='speed', cmap='Viridis', \n",
    "                                  clim=(0,10), tiles='CartoLight') "
   ]
  },
  {
   "cell_type": "code",
   "execution_count": null,
   "metadata": {},
   "outputs": [],
   "source": [
    "traj_id = EVERID  \n",
    "( tc.to_traj_gdf().hvplot(title=f'Trajectory {traj_id} on top of all other trajectories', \n",
    "                          geo=True, tiles='OSM', color='white', alpha=0.5) *\n",
    "tc.get_trajectory(traj_id).hvplot(c='speed', cmap='Viridis', clim=(0,7), tiles=None) )"
   ]
  },
  {
   "cell_type": "code",
   "execution_count": null,
   "metadata": {},
   "outputs": [],
   "source": [
    "( BG_TILES * \n",
    "  tmp.hvplot.scatter(title=f'Trajectory {traj_id} on top of density map',\n",
    "                    x='x', y='y', datashade=True, cmap=['lightpink','hotpink','darkblue']) *\n",
    "  tc.get_trajectory(traj_id).hvplot(c='speed', cmap='Viridis', clim=(0,7), tiles=None) )"
   ]
  },
  {
   "cell_type": "code",
   "execution_count": null,
   "metadata": {},
   "outputs": [],
   "source": [
    "tc.to_point_gdf().hvplot.scatter(x='t', y='speed')"
   ]
  },
  {
   "cell_type": "code",
   "execution_count": null,
   "metadata": {},
   "outputs": [],
   "source": [
    "stop_pts = mpd.TrajectoryStopDetector(tc).get_stop_points(min_duration=timedelta(hours=3), max_diameter=1000)\n",
    "stop_pts['duration_h'] = stop_pts['duration_s'] / 3600\n",
    "stop_pts"
   ]
  },
  {
   "cell_type": "code",
   "execution_count": null,
   "metadata": {},
   "outputs": [],
   "source": [
    "( pd.DataFrame(stop_pts).hvplot.scatter(\n",
    "    title='Stop start & duration (in hours)', x='start_time', y='duration_h') *\n",
    "  pd.DataFrame(stop_pts[stop_pts['traj_id']==EVERID]).hvplot.scatter(\n",
    "      x='start_time', y='duration_h', color='red', size=200) )"
   ]
  },
  {
   "cell_type": "code",
   "execution_count": null,
   "metadata": {},
   "outputs": [],
   "source": [
    "stop_pts[stop_pts.start_time > datetime(2021,3,23,5,0,0)]\\\n",
    "    .sort_values('duration_s', ascending=False)\\\n",
    "    .head(7)\\\n",
    "    .style.background_gradient(cmap='Reds')"
   ]
  },
  {
   "cell_type": "code",
   "execution_count": null,
   "metadata": {},
   "outputs": [],
   "source": []
  }
 ],
 "metadata": {
  "kernelspec": {
   "display_name": "Python 3 (ipykernel)",
   "language": "python",
   "name": "python3"
  },
  "language_info": {
   "codemirror_mode": {
    "name": "ipython",
    "version": 3
   },
   "file_extension": ".py",
   "mimetype": "text/x-python",
   "name": "python",
   "nbconvert_exporter": "python",
   "pygments_lexer": "ipython3",
   "version": "3.10.12"
  }
 },
 "nbformat": 4,
 "nbformat_minor": 2
}
