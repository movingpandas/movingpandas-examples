{
 "cells": [
  {
   "attachments": {},
   "cell_type": "markdown",
   "metadata": {},
   "source": [
    "# Aggregating trajectories\n",
    "\n",
    "<img align=\"right\" src=\"https://movingpandas.github.io/movingpandas/assets/img/movingpandas.png\">\n",
    "\n",
    "[![Binder](https://mybinder.org/badge_logo.svg)](https://mybinder.org/v2/gh/movingpandas/movingpandas-examples/main?filepath=1-tutorials/9-aggregating-trajectories.ipynb)\n",
    "[![IPYNB](https://img.shields.io/badge/view-ipynb-hotpink)](https://github.com/movingpandas/movingpandas-examples/blob/main/1-tutorials/9-aggregating-trajectories.ipynb)\n",
    "[![HTML](https://img.shields.io/badge/view-html-green)](https://movingpandas.github.io/movingpandas-website/1-tutorials/9-aggregating-trajectories.html)\n",
    "\n",
    "The aggregation approach implemented in TrajectoryCollectionAggregator is based on Andrienko, N., & Andrienko, G. (2011). Spatial generalization and aggregation of massive movement data. IEEE Transactions on visualization and computer graphics, 17(2), 205-219. and consists of the following main steps:\n",
    "\n",
    "1. Extracting characteristic points from the trajectories\n",
    "2. Grouping the extracted points by spatial proximity\n",
    "3. Computing group centroids and corresponding Voronoi cells\n",
    "4. Dividing trajectories into segments according to the Voronoi cells\n",
    "5. Counting transitions from one cell to another"
   ]
  },
  {
   "cell_type": "code",
   "execution_count": null,
   "metadata": {},
   "outputs": [],
   "source": [
    "import pandas as pd\n",
    "import geopandas as gpd\n",
    "import movingpandas as mpd\n",
    "import shapely as shp\n",
    "import hvplot.pandas\n",
    "import matplotlib.pyplot as plt\n",
    "import folium\n",
    "\n",
    "from geopandas import GeoDataFrame, read_file\n",
    "from shapely.geometry import Point, LineString, Polygon\n",
    "from datetime import datetime, timedelta\n",
    "from holoviews import opts, dim\n",
    "\n",
    "import warnings\n",
    "\n",
    "warnings.filterwarnings(\"ignore\")\n",
    "\n",
    "plot_defaults = {\"linewidth\": 5, \"capstyle\": \"round\", \"figsize\": (9, 3), \"legend\": True}\n",
    "opts.defaults(\n",
    "    opts.Overlay(active_tools=[\"wheel_zoom\"], frame_width=500, frame_height=400)\n",
    ")\n",
    "\n",
    "mpd.show_versions()"
   ]
  },
  {
   "cell_type": "code",
   "execution_count": null,
   "metadata": {},
   "outputs": [],
   "source": [
    "gdf = read_file(\"../data/geolife_small.gpkg\")\n",
    "tc = mpd.TrajectoryCollection(gdf, \"trajectory_id\", t=\"t\")"
   ]
  },
  {
   "cell_type": "code",
   "execution_count": null,
   "metadata": {},
   "outputs": [],
   "source": [
    "tc.hvplot(line_width=7.0, tiles=\"StamenTonerBackground\")"
   ]
  },
  {
   "cell_type": "code",
   "execution_count": null,
   "metadata": {},
   "outputs": [],
   "source": [
    "tc.explore(column=\"trajectory_id\", cmap=\"plasma\", style_kwds={\"weight\": 4})"
   ]
  },
  {
   "attachments": {},
   "cell_type": "markdown",
   "metadata": {},
   "source": [
    "## TrajectoryCollectionAggregator"
   ]
  },
  {
   "attachments": {},
   "cell_type": "markdown",
   "metadata": {},
   "source": [
    "Generalizing the trip trajectories significantly speeds up the following aggregation step."
   ]
  },
  {
   "cell_type": "code",
   "execution_count": null,
   "metadata": {},
   "outputs": [],
   "source": [
    "generalized = mpd.MinDistanceGeneralizer(tc).generalize(tolerance=100)"
   ]
  },
  {
   "cell_type": "code",
   "execution_count": null,
   "metadata": {},
   "outputs": [],
   "source": [
    "aggregator = mpd.TrajectoryCollectionAggregator(\n",
    "    generalized,\n",
    "    max_distance=1000,\n",
    "    min_distance=100,\n",
    "    min_stop_duration=timedelta(minutes=5),\n",
    ")"
   ]
  },
  {
   "cell_type": "code",
   "execution_count": null,
   "metadata": {},
   "outputs": [],
   "source": [
    "pts = aggregator.get_significant_points_gdf()\n",
    "clusters = aggregator.get_clusters_gdf()\n",
    "(\n",
    "    pts.hvplot(geo=True, tiles=\"StamenTonerBackground\")\n",
    "    * clusters.hvplot(geo=True, color=\"red\")\n",
    ")"
   ]
  },
  {
   "cell_type": "code",
   "execution_count": null,
   "metadata": {},
   "outputs": [],
   "source": [
    "m = pts.explore(marker_kwds={\"radius\": 3}, name=\"Significant points\")\n",
    "\n",
    "clusters.explore(m=m, color=\"red\", marker_kwds={\"radius\": 3}, name=\"Cluster centroids\")\n",
    "\n",
    "folium.TileLayer(\"CartoDB positron\").add_to(m)\n",
    "folium.LayerControl().add_to(m)\n",
    "\n",
    "m"
   ]
  },
  {
   "cell_type": "code",
   "execution_count": null,
   "metadata": {},
   "outputs": [],
   "source": [
    "flows = aggregator.get_flows_gdf()"
   ]
  },
  {
   "cell_type": "code",
   "execution_count": null,
   "metadata": {},
   "outputs": [],
   "source": [
    "(\n",
    "    flows.hvplot(\n",
    "        geo=True,\n",
    "        hover_cols=[\"weight\"],\n",
    "        line_width=dim(\"weight\") * 7,\n",
    "        color=\"#1f77b3\",\n",
    "        tiles=\"StamenTonerBackground\",\n",
    "    )\n",
    "    * clusters.hvplot(geo=True, color=\"red\", size=dim(\"n\"))\n",
    ")"
   ]
  },
  {
   "cell_type": "code",
   "execution_count": null,
   "metadata": {},
   "outputs": [],
   "source": [
    "m = flows.explore(\n",
    "    style_kwds={\"weight\": 5},\n",
    "    name=\"Flows\",\n",
    ")\n",
    "\n",
    "clusters.explore(\n",
    "    m=m,\n",
    "    color=\"red\",\n",
    "    style_kwds={\"style_function\": lambda x: {\"radius\": x[\"properties\"][\"n\"]}},\n",
    "    name=\"Clusters\",\n",
    ")\n",
    "\n",
    "folium.TileLayer(\"OpenStreetMap\").add_to(m)\n",
    "folium.LayerControl().add_to(m)\n",
    "\n",
    "m"
   ]
  },
  {
   "cell_type": "code",
   "execution_count": null,
   "metadata": {},
   "outputs": [],
   "source": []
  }
 ],
 "metadata": {
  "kernelspec": {
   "display_name": "Python 3 (ipykernel)",
   "language": "python",
   "name": "python3"
  },
  "language_info": {
   "codemirror_mode": {
    "name": "ipython",
    "version": 3
   },
   "file_extension": ".py",
   "mimetype": "text/x-python",
   "name": "python",
   "nbconvert_exporter": "python",
   "pygments_lexer": "ipython3",
   "version": "3.10.14"
  }
 },
 "nbformat": 4,
 "nbformat_minor": 4
}
