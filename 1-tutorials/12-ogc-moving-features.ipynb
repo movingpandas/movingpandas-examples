{
 "cells": [
  {
   "cell_type": "markdown",
   "metadata": {},
   "source": [
    "# OGC MovingFeatures functionality\n",
    "\n",
    "<img align=\"right\" src=\"https://movingpandas.github.io/movingpandas/assets/img/movingpandas.png\">\n",
    "\n",
    "Ressources:\n",
    "\n",
    "- [OGC Moving Features Standard Working Group on Github](https://github.com/opengeospatial/mf-swg)\n",
    "- [Moving Features JSON Encoding Standard](https://docs.ogc.org/is/19-045r3/19-045r3.html)\n",
    "   - [Sample files on Github](https://github.com/opengeospatial/mf-json)\n",
    "\n",
    "MovingPandas offers OGC MovingFeatures functionality to read and convert MF-JSON files."
   ]
  },
  {
   "cell_type": "code",
   "execution_count": null,
   "metadata": {},
   "outputs": [],
   "source": [
    "import pandas as pd\n",
    "import geopandas as gpd\n",
    "import movingpandas as mpd\n",
    "import shapely as shp\n",
    "import hvplot.pandas\n",
    "import json\n",
    "\n",
    "from geopandas import GeoDataFrame, read_file\n",
    "from movingpandas import read_mf_dict, gdf_to_mf_json\n",
    "from shapely.geometry import Point, LineString, Polygon\n",
    "from datetime import datetime, timedelta\n",
    "from holoviews import opts, dim\n",
    "\n",
    "import warnings\n",
    "\n",
    "warnings.filterwarnings(\"ignore\")\n",
    "\n",
    "opts.defaults(opts.Overlay(active_tools=[\"wheel_zoom\"]))\n",
    "\n",
    "mpd.show_versions()"
   ]
  },
  {
   "cell_type": "markdown",
   "metadata": {},
   "source": [
    "## MF-JSON MovingPoint"
   ]
  },
  {
   "cell_type": "markdown",
   "metadata": {},
   "source": [
    "https://docs.ogc.org/is/19-045r3/19-045r3.html#_mf_json_prism_encoding\n",
    "\n",
    "https://github.com/opengeospatial/mf-json/tree/master/json-sample/movingpoint"
   ]
  },
  {
   "cell_type": "code",
   "execution_count": null,
   "metadata": {},
   "outputs": [],
   "source": [
    "traj = mpd.read_mf_json(\"../data/mf-movingpoint.json\")\n",
    "traj.df.head()"
   ]
  },
  {
   "cell_type": "code",
   "execution_count": null,
   "metadata": {},
   "outputs": [],
   "source": [
    "traj.explore(color=\"red\")"
   ]
  },
  {
   "cell_type": "markdown",
   "metadata": {},
   "source": [
    "## MF-JSON MovingFeatureCollection"
   ]
  },
  {
   "cell_type": "markdown",
   "metadata": {},
   "source": [
    "https://docs.ogc.org/is/19-045r3/19-045r3.html#_mf_json_prism_encoding"
   ]
  },
  {
   "cell_type": "code",
   "execution_count": null,
   "metadata": {},
   "outputs": [],
   "source": [
    "collection = {\n",
    "    \"type\": \"FeatureCollection\",\n",
    "    \"features\": [\n",
    "        {\n",
    "            \"type\": \"Feature\",\n",
    "            \"properties\": {\"id\": 5},\n",
    "            \"temporalGeometry\": {\n",
    "                \"type\": \"MovingPoint\",\n",
    "                \"datetimes\": [\"2008-02-02T15:02:18Z\", \"2008-02-02T18:32:28Z\"],\n",
    "                \"coordinates\": [[116.52299, 40.07757], [116.52302, 39.92129]],\n",
    "            },\n",
    "        }\n",
    "    ],\n",
    "}"
   ]
  },
  {
   "cell_type": "code",
   "execution_count": null,
   "metadata": {},
   "outputs": [],
   "source": [
    "trajs_collection = read_mf_dict(collection, traj_id_property=\"id\")\n",
    "trajs_collection"
   ]
  },
  {
   "cell_type": "markdown",
   "metadata": {},
   "source": [
    "#### Convert TrajectoryCollection to a dict compatible with MF-JSON"
   ]
  },
  {
   "cell_type": "code",
   "execution_count": null,
   "metadata": {},
   "outputs": [],
   "source": [
    "df = pd.DataFrame(\n",
    "    {\n",
    "        \"t\": pd.date_range(\"2020-01-01\", periods=5, freq=\"min\"),\n",
    "        \"trajectory_id\": [1, 1, 2, 2, 2],\n",
    "        \"geometry\": [Point(0, 0), Point(0, 1), Point(1, 2), Point(1, 3), Point(2, 4)],\n",
    "    }\n",
    ")\n",
    "gdf = gpd.GeoDataFrame(df, crs=4326)\n",
    "tc = mpd.TrajectoryCollection(gdf, traj_id_col=\"trajectory_id\", t=\"t\")\n",
    "tc"
   ]
  },
  {
   "cell_type": "code",
   "execution_count": null,
   "metadata": {},
   "outputs": [],
   "source": [
    "mf_json = tc.to_mf_json()\n",
    "mf_json"
   ]
  },
  {
   "cell_type": "markdown",
   "metadata": {},
   "source": [
    "## MF-JSON Trajectory"
   ]
  },
  {
   "cell_type": "markdown",
   "metadata": {},
   "source": [
    "https://docs.ogc.org/is/19-045r3/19-045r3.html#_mf_json_trajectory_encoding\n",
    "\n",
    "https://github.com/opengeospatial/mf-json/tree/master/json-sample/trajectory"
   ]
  },
  {
   "cell_type": "code",
   "execution_count": null,
   "metadata": {},
   "outputs": [],
   "source": [
    "traj = mpd.read_mf_json(\"../data/mf-trajectory.json\", traj_id=3)\n",
    "traj.df.head()"
   ]
  },
  {
   "cell_type": "code",
   "execution_count": null,
   "metadata": {},
   "outputs": [],
   "source": [
    "traj.explore(color=\"green\")"
   ]
  },
  {
   "cell_type": "markdown",
   "metadata": {},
   "source": [
    "## Writing MF-JSON"
   ]
  },
  {
   "cell_type": "markdown",
   "metadata": {},
   "source": [
    "#### Convert Trajectory to a dict compatible with MF-JSON"
   ]
  },
  {
   "cell_type": "code",
   "execution_count": null,
   "metadata": {},
   "outputs": [],
   "source": [
    "mf_json = traj.to_mf_json(temporal_columns=[\"preasure\", \"wind\", \"class\"])\n",
    "mf_json"
   ]
  },
  {
   "cell_type": "markdown",
   "metadata": {},
   "source": [
    "#### Save MF-JSON dict to file"
   ]
  },
  {
   "cell_type": "code",
   "execution_count": null,
   "metadata": {},
   "outputs": [],
   "source": [
    "with open(\"../data/mf1.json\", \"w\") as json_file:\n",
    "    json.dump(mf_json, json_file, indent=4)"
   ]
  },
  {
   "cell_type": "markdown",
   "metadata": {},
   "source": [
    "#### Read MF-JSON file"
   ]
  },
  {
   "cell_type": "code",
   "execution_count": null,
   "metadata": {},
   "outputs": [],
   "source": [
    "traj = (\n",
    "    mpd.read_mf_json(\"../data/mf1.json\", traj_id_property=\"traj_id\").trajectories[0].df\n",
    ")\n",
    "traj.head()"
   ]
  },
  {
   "cell_type": "code",
   "execution_count": null,
   "metadata": {},
   "outputs": [],
   "source": [
    "traj.explore()"
   ]
  },
  {
   "cell_type": "markdown",
   "metadata": {},
   "source": [
    "#### Convert GeoDataFrame to a dict compatible with MF-JSON"
   ]
  },
  {
   "cell_type": "code",
   "execution_count": null,
   "metadata": {},
   "outputs": [],
   "source": [
    "df = read_file(\"../data/geolife_small.csv\")\n",
    "gdf = GeoDataFrame(df, geometry=gpd.points_from_xy(df[\"X\"], df[\"Y\"]))\n",
    "gdf.head()"
   ]
  },
  {
   "cell_type": "code",
   "execution_count": null,
   "metadata": {},
   "outputs": [],
   "source": [
    "mf_json = gdf_to_mf_json(gdf, traj_id_column=\"trajectory_id\", datetime_column=\"t\")"
   ]
  },
  {
   "cell_type": "markdown",
   "metadata": {},
   "source": [
    "#### Save MF-JSON dict to file"
   ]
  },
  {
   "cell_type": "code",
   "execution_count": null,
   "metadata": {},
   "outputs": [],
   "source": [
    "with open(\"../data/mf-geolife_small.json\", \"w\") as json_file:\n",
    "    json.dump(mf_json, json_file, indent=4)"
   ]
  },
  {
   "cell_type": "markdown",
   "metadata": {},
   "source": [
    "#### Read JSON file to dict"
   ]
  },
  {
   "cell_type": "code",
   "execution_count": null,
   "metadata": {},
   "outputs": [],
   "source": [
    "with open(\"../data/mf-geolife_small.json\", \"r\") as file:\n",
    "    data = json.load(file)"
   ]
  },
  {
   "cell_type": "code",
   "execution_count": null,
   "metadata": {},
   "outputs": [],
   "source": [
    "s = list(data.items())[:2]\n",
    "s = str(s)\n",
    "s[:1000]"
   ]
  },
  {
   "cell_type": "markdown",
   "metadata": {},
   "source": [
    "#### Read MF-JSON from a dict"
   ]
  },
  {
   "cell_type": "code",
   "execution_count": null,
   "metadata": {},
   "outputs": [],
   "source": [
    "tc = read_mf_dict(data, traj_id_property=\"trajectory_id\")\n",
    "tc"
   ]
  },
  {
   "cell_type": "markdown",
   "metadata": {},
   "source": [
    "#### Read MF-JSON file"
   ]
  },
  {
   "cell_type": "code",
   "execution_count": null,
   "metadata": {},
   "outputs": [],
   "source": [
    "tc = mpd.read_mf_json(\"../data/mf-geolife_small.json\", traj_id_property=\"trajectory_id\")\n",
    "tc"
   ]
  },
  {
   "cell_type": "code",
   "execution_count": null,
   "metadata": {},
   "outputs": [],
   "source": [
    "tc.explore(column=\"trajectory_id\", cmap=\"viridis\", style_kwds={\"weight\": 4})"
   ]
  },
  {
   "cell_type": "code",
   "execution_count": null,
   "metadata": {},
   "outputs": [],
   "source": []
  }
 ],
 "metadata": {
  "kernelspec": {
   "display_name": "mpd-ex",
   "language": "python",
   "name": "python3"
  },
  "language_info": {
   "codemirror_mode": {
    "name": "ipython",
    "version": 3
   },
   "file_extension": ".py",
   "mimetype": "text/x-python",
   "name": "python",
   "nbconvert_exporter": "python",
   "pygments_lexer": "ipython3",
   "version": "3.10.15"
  }
 },
 "nbformat": 4,
 "nbformat_minor": 2
}
