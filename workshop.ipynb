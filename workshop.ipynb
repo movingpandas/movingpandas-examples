{
 "cells": [
  {
   "cell_type": "markdown",
   "id": "a884b49a-be7c-42bd-b445-6a31af70445f",
   "metadata": {},
   "source": [
    "# Intro to MovingPandas \n",
    "\n",
    "*GIS MSc course @ Uni Piraeus*\n",
    "\n",
    "<img align=\"right\" src=\"https://anitagraser.github.io/movingpandas/assets/img/movingpandas.png\">\n",
    "\n",
    "## Introduction to Movement Data Science\n",
    "\n",
    "The intro slide deck will be provided separately.\n",
    "\n",
    "## Hands-on Session\n",
    "\n",
    "1. [Step-by-Step tutorials](1-tutorials/99-mini-example.ipynb)\n",
    "1. [\"Ever Given\" demo](3-tech-demos/ever-given.ipynb)\n",
    "1. [Data app](3-tech-demos/stopdetection-app.ipynb)\n",
    "\n",
    "\n",
    "\n",
    "## Outlook\n",
    "\n",
    "Back to the slide deck"
   ]
  }
 ],
 "metadata": {
  "kernelspec": {
   "display_name": "Python 3 (ipykernel)",
   "language": "python",
   "name": "python3"
  },
  "language_info": {
   "codemirror_mode": {
    "name": "ipython",
    "version": 3
   },
   "file_extension": ".py",
   "mimetype": "text/x-python",
   "name": "python",
   "nbconvert_exporter": "python",
   "pygments_lexer": "ipython3",
   "version": "3.7.12"
  }
 },
 "nbformat": 4,
 "nbformat_minor": 5
}
