{
 "cells": [
  {
   "cell_type": "markdown",
   "metadata": {},
   "source": [
    "# BYU/NIC iceberg database\n",
    "\n",
    "<img align=\"right\" src=\"https://movingpandas.github.io/movingpandas/assets/img/movingpandas.png\">\n",
    "\n",
    "[![Binder](https://mybinder.org/badge_logo.svg)](https://mybinder.org/v2/gh/movingpandas/movingpandas-examples/main?filepath=2-analysis-examples/iceberg.ipynb)\n",
    "[![IPYNB](https://img.shields.io/badge/view-ipynb-hotpink)](https://github.com/movingpandas/movingpandas-examples/blob/main/2-analysis-examples/iceberg.ipynb)\n",
    "[![HTML](https://img.shields.io/badge/view-html-green)](https://movingpandas.github.io/movingpandas-website/2-analysis-examples/iceberg.html)\n",
    "\n",
    "The consolidated [BYU/NIC iceberg database](https://www.scp.byu.edu/data/iceberg/) is described in the paper J.S. Budge and D.G. Long, \"A Comprehensive Database for Antarctic Iceberg Tracking Using Scatterometer Data,\" IEEE Journal of Selected Topics in Applied Earth Observations, Vol. 11, No. 2, doi:10.1109/JSTARS.2017.2784186, 2017.\n",
    "\n",
    "## Original readme\n",
    "\n",
    "```\n",
    "---------------------------------------------------------\n",
    "-   BYU MERS Consolidated Antarctic Iceberg Database    -\n",
    "-\t\tJeff Budge, BYU Nov 2016                -\n",
    "- w/revisions by D.G. Long, BYU Nov 2017, Jun 2019, Aug 2019\n",
    "---------------------------------------------------------\n",
    "\n",
    "This readme is intended to explain the contents the database.\n",
    "Details about how the database is created are contained in\n",
    "J.S. Budge and D.G. Long, \"A Comprehensive Database for Antarctic\n",
    "Iceberg Tracking Using Scatterometer Data,\" IEEE Journal of\n",
    "Selected Topics in Applied Earth Observations, accepted and\n",
    "to appear, 2017. Related papers: K.M. Stuart and D.G. Long,\n",
    "\"Tracking large tabular icebergs using the SeaWinds Ku-band\n",
    "microwave scatterometer\", Deep-Sea Research Part II, \n",
    "doi:10.1016/j.dsr2.2010.11.004, Vol. 58, pp. 1285-1300, 2011.\n",
    "D.G. Long, Jarom Ballantyne, and C. Bertoia, \"Is the Number of\n",
    "Icebergs Really Increasing?\" EOS, Transactions of the American\n",
    "Geophysical Union, Vol. 83, No. 42, pp. 469 & 474, 15 Oct 2002.\n",
    "\n",
    "\n",
    "FILES\n",
    "\n",
    "Each file in the consolidated database contains information on one\n",
    "named iceberg. The name of the iceberg is also the name of the file\n",
    "with a .csv extension. The headers of each file show the date,\n",
    "sensors, and sizes associated with that iceberg. A few notes:\n",
    "\n",
    "-Each file shows only the sensors that have data available for that\n",
    " iceberg. This means that the number of columns in each file is\n",
    " variable.\n",
    "\n",
    "-Each sensor has at least two columns associated with it, namely\n",
    " 'sensor_1' and 'sensor_2' where \"sensor\" is replaced with the actual\n",
    " sensor name.  'sensor_1' is the latitude and 'sensor_2' is the\n",
    " longitudinal measurement from each sensor on the given date.\n",
    " The values of 0,0 are used for no data.\n",
    "\n",
    "-Most sensors have a third column, 'sensor_3' that is a binary flag\n",
    " that indicates if the measurement is an observation (1) or has\n",
    " been interpolated (0) for that day or not. Where possible, daily\n",
    " position reports are provided by interpolating sensor observations.\n",
    " Interpolation is only used when (1) the time gap is less than 14\n",
    " days and (2) the spatial displacement between observation is less\n",
    " than 3 deg latitude or longitude.  Interpolated positions that end\n",
    " up over land are not included.\n",
    "\n",
    "-Dates are shown in JD format, with the four digit year first followed\n",
    " by the three digit day of the year.\n",
    "\n",
    "-'size_1' and 'size_2' show the length of the major and minor axes of\n",
    " the iceberg on the date, as given by the NIC, in nautical miles. To\n",
    " convert to km, multiply the value by 1.852.\n",
    "\n",
    "-Standard NIC icebergs names begin with a, b, c, or d which gives the\n",
    " origin quadrant. Additional icebergs were identified in scatterometer\n",
    " data.  These unnamed icebergs are stored in files that begin with \n",
    " sa (SASS 1978), e (ERS1/2 1992-2001), or uk (1999-present).\n",
    "\n",
    "KNOWN ISSUES\n",
    "\n",
    "NIC positions are derived from NIC reports.  Some inconsistencies and\n",
    "errors exist in these reports. NIC observation dates are irregular\n",
    "and infrequent, especially in the early days. There are occasions\n",
    "when the NIC reports for a single iceberg seem to have been actually\n",
    "from two different icebergs. While some corrections have been made,\n",
    "NIC reports are generally used as is. While icebergs due not grow\n",
    "in size, some NIC reports show size increase. This may be due to\n",
    "(1) quantization of the reported dimensions by NIC and/or (2) variations\n",
    "in the subjectively choosen axes used to infer dimensions.\n",
    "\n",
    "Scatterometer sensor position estimates have gaps due to loss of data\n",
    "and backscatter constrast, especially during summer months, but\n",
    "typically are available on a daily basis. The iceberg center in\n",
    "scatterometer data reports is subjectively determined based on\n",
    "scatterometer backscatter images may not coincide with the center\n",
    "identified in NIC reports.\n",
    "```"
   ]
  },
  {
   "cell_type": "code",
   "execution_count": null,
   "metadata": {},
   "outputs": [],
   "source": [
    "import pandas as pd\n",
    "import movingpandas as mpd\n",
    "import zipfile\n",
    "import warnings\n",
    "\n",
    "warnings.filterwarnings(\"ignore\")"
   ]
  },
  {
   "cell_type": "code",
   "execution_count": null,
   "metadata": {},
   "outputs": [],
   "source": [
    "zf = zipfile.ZipFile(\"../data/icebergs_v5.zip\")\n",
    "df = pd.read_csv(zf.open(\"consol/uk319.csv\"))\n",
    "df[\"t\"] = pd.to_datetime(df.date, format=\"%Y%j\")\n",
    "df"
   ]
  },
  {
   "cell_type": "code",
   "execution_count": null,
   "metadata": {},
   "outputs": [],
   "source": [
    "traj = mpd.Trajectory(df, traj_id=1, t=\"t\", x=\"ascat_2\", y=\"ascat_1\")\n",
    "traj.hvplot(\n",
    "    title=\"Iceberg trajectory\",\n",
    "    c=\"ascat_3\",\n",
    "    line_width=5,\n",
    "    cmap=[\"yellow\", \"blue\"],\n",
    "    colorbar=True,\n",
    ")"
   ]
  },
  {
   "cell_type": "code",
   "execution_count": null,
   "metadata": {},
   "outputs": [],
   "source": [
    "traj.explore(color=\"#ff00ff\", tiles=\"CartoDB dark_matter\", style_kwds={\"weight\": 4})"
   ]
  },
  {
   "cell_type": "markdown",
   "metadata": {},
   "source": [
    "## Non-default projections\n",
    "\n",
    "https://geoviews.org/user_guide/Projections.html"
   ]
  },
  {
   "cell_type": "code",
   "execution_count": null,
   "metadata": {
    "tags": []
   },
   "outputs": [],
   "source": [
    "import geoviews as gv\n",
    "import geoviews.feature as gf\n",
    "from cartopy import crs"
   ]
  },
  {
   "cell_type": "code",
   "execution_count": null,
   "metadata": {
    "tags": []
   },
   "outputs": [],
   "source": [
    "(\n",
    "    gf.coastline\n",
    "    * traj.hvplot(title=\"Iceberg trajectory in SouthPolarStereo\", tiles=None)\n",
    ").opts(projection=crs.SouthPolarStereo())"
   ]
  },
  {
   "cell_type": "markdown",
   "metadata": {
    "tags": []
   },
   "source": [
    "## Continue exploring MovingPandas\n",
    "\n",
    "1. [Bird migration analysis](bird-migration.ipynb)\n",
    "1. [Ship data analysis](ship-data.ipynb)\n",
    "1. [Horse collar data exploration](horse-collar.ipynb)\n",
    "1. [OSM traces](osm-traces.ipynb)\n",
    "1. [Soccer game](soccer-game.ipynb)\n",
    "1. [Mars rover & heli](mars-rover.ipynb)\n",
    "1. [Ever Given](ever-given.ipynb)\n",
    "1. [Iceberg](iceberg.ipynb)\n",
    "1. [Pollution data](pollution-data.ipynb)"
   ]
  }
 ],
 "metadata": {
  "kernelspec": {
   "display_name": "Python 3 (ipykernel)",
   "language": "python",
   "name": "python3"
  },
  "language_info": {
   "codemirror_mode": {
    "name": "ipython",
    "version": 3
   },
   "file_extension": ".py",
   "mimetype": "text/x-python",
   "name": "python",
   "nbconvert_exporter": "python",
   "pygments_lexer": "ipython3",
   "version": "3.10.14"
  },
  "vscode": {
   "interpreter": {
    "hash": "2fad62c144698ee51b1d31172f8302cb858a7bff343bd84b86812f8129ff7fd2"
   }
  }
 },
 "nbformat": 4,
 "nbformat_minor": 4
}
