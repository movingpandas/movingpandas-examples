{
 "cells": [
  {
   "attachments": {},
   "cell_type": "markdown",
   "metadata": {},
   "source": [
    "# Ever Given\n",
    "\n",
    "<img align=\"right\" src=\"https://movingpandas.github.io/movingpandas/assets/img/movingpandas.png\">\n",
    "\n",
    "[![Binder](https://mybinder.org/badge_logo.svg)](https://mybinder.org/v2/gh/movingpandas/movingpandas-examples/main?filepath=2-analysis-examples/ever-given.ipynb)\n",
    "[![IPYNB](https://img.shields.io/badge/view-ipynb-hotpink)](https://github.com/movingpandas/movingpandas-examples/blob/main/2-analysis-examples/ever-given.ipynb)\n",
    "[![HTML](https://img.shields.io/badge/view-html-green)](https://movingpandas.github.io/movingpandas-website/2-analysis-examples/ever-given.html)\n",
    "\n",
    "This notebook presents an analysis of the vessel situation following the grounding of Ever Given in the Suez Canal.\n",
    "\n",
    "\n",
    "The dataset used covers the time span between 2021-03-20 00:00 and 2021-03-24 12:52 UTC.\n",
    " \n",
    "This data has generously been provided by VesselsValue.\n",
    "\n",
    "\n",
    "<img align=\"left\" src=\"https://upload.wikimedia.org/wikipedia/commons/thumb/1/15/Container_Ship_%27Ever_Given%27_stuck_in_the_Suez_Canal%2C_Egypt_-_March_24th%2C_2021_cropped.jpg/320px-Container_Ship_%27Ever_Given%27_stuck_in_the_Suez_Canal%2C_Egypt_-_March_24th%2C_2021_cropped.jpg\">\n"
   ]
  },
  {
   "cell_type": "code",
   "execution_count": null,
   "metadata": {},
   "outputs": [],
   "source": [
    "import pandas as pd\n",
    "import geopandas as gpd\n",
    "import movingpandas as mpd\n",
    "from shapely.geometry import Point\n",
    "from datetime import datetime, timedelta\n",
    "from hvplot import pandas\n",
    "\n",
    "from holoviews import opts, dim\n",
    "from holoviews.selection import link_selections\n",
    "\n",
    "import warnings\n",
    "\n",
    "warnings.simplefilter(\"ignore\")"
   ]
  },
  {
   "cell_type": "code",
   "execution_count": null,
   "metadata": {},
   "outputs": [],
   "source": [
    "EVERID = 235\n",
    "FSIZE = 300"
   ]
  },
  {
   "cell_type": "code",
   "execution_count": null,
   "metadata": {},
   "outputs": [],
   "source": [
    "df = pd.read_csv(\"../data/boat-positions.csv\")\n",
    "df[\"t\"] = pd.to_datetime(df[\"ais_pos_timestamp\"], format=\"%d/%m/%Y %H:%M\")\n",
    "df"
   ]
  },
  {
   "cell_type": "code",
   "execution_count": null,
   "metadata": {},
   "outputs": [],
   "source": [
    "gdf = gpd.GeoDataFrame(\n",
    "    df.drop([\"longitude\", \"latitude\", \"ais_pos_timestamp\"], axis=1),\n",
    "    crs=\"epsg:4326\",\n",
    "    geometry=[Point(xy) for xy in zip(df.longitude, df.latitude)],\n",
    ")\n",
    "gdf"
   ]
  },
  {
   "cell_type": "code",
   "execution_count": null,
   "metadata": {},
   "outputs": [],
   "source": [
    "gdf.hvplot(geo=True, tiles=\"OSM\", frame_width=FSIZE, frame_height=FSIZE)"
   ]
  },
  {
   "cell_type": "code",
   "execution_count": null,
   "metadata": {},
   "outputs": [],
   "source": [
    "tc = mpd.TrajectoryCollection(gdf, \"ID\", t=\"t\")"
   ]
  },
  {
   "cell_type": "code",
   "execution_count": null,
   "metadata": {},
   "outputs": [],
   "source": [
    "evergiven = tc.get_trajectory(EVERID)\n",
    "evergiven.hvplot(line_width=3, frame_width=FSIZE, frame_height=FSIZE)"
   ]
  },
  {
   "cell_type": "code",
   "execution_count": null,
   "metadata": {},
   "outputs": [],
   "source": [
    "stop_detector = mpd.TrajectoryStopDetector(tc)\n",
    "stop_pts = stop_detector.get_stop_points(\n",
    "    min_duration=timedelta(hours=3), max_diameter=1000\n",
    ")\n",
    "stop_pts"
   ]
  },
  {
   "cell_type": "code",
   "execution_count": null,
   "metadata": {},
   "outputs": [],
   "source": [
    "stop_pts[\"duration_h\"] = stop_pts[\"duration_s\"] / 3600\n",
    "stop_pts"
   ]
  },
  {
   "cell_type": "markdown",
   "metadata": {},
   "source": [
    "## Ever Given ran aground around 7:40 local time (5:40 UTC) on 23rd March 2021"
   ]
  },
  {
   "cell_type": "code",
   "execution_count": null,
   "metadata": {},
   "outputs": [],
   "source": [
    "stop_pts[stop_pts[\"traj_id\"] == EVERID]"
   ]
  },
  {
   "cell_type": "code",
   "execution_count": null,
   "metadata": {},
   "outputs": [],
   "source": [
    "map_plot = (\n",
    "    stop_pts.hvplot(geo=True, hover_cols=[\"start_time\"], size=20, tiles=\"OSM\")\n",
    "    * evergiven.hvplot(\n",
    "        line_width=5,\n",
    "        color=\"red\",\n",
    "        frame_width=FSIZE,\n",
    "        frame_height=FSIZE,\n",
    "        alpha=0.5,\n",
    "        tiles=None,\n",
    "    ).opts(active_tools=[\"pan\", \"wheelzoom\"])\n",
    "    * stop_pts[stop_pts[\"traj_id\"] == EVERID].hvplot(\n",
    "        geo=True,\n",
    "        hover_cols=[\"start_time\"],\n",
    "        size=dim(\"duration_h\") / 2,\n",
    "        color=\"red\",\n",
    "        title=\"Trajectory & stop location of Ever Given and stops of other vessels\",\n",
    "    )\n",
    ")\n",
    "scatter_plot = stop_pts.hvplot.scatter(\n",
    "    title=\"Stop start & duration (in hours)\",\n",
    "    x=\"start_time\",\n",
    "    y=\"duration_h\",\n",
    "    frame_width=FSIZE,\n",
    "    frame_height=FSIZE,\n",
    "    alpha=0.7,\n",
    ") * stop_pts[stop_pts[\"traj_id\"] == EVERID].hvplot.scatter(\n",
    "    x=\"start_time\", y=\"duration_h\", color=\"red\", size=200\n",
    ")\n",
    "map_plot + scatter_plot"
   ]
  },
  {
   "cell_type": "markdown",
   "metadata": {},
   "source": [
    "*Data generously provided by VesselsValue.*"
   ]
  },
  {
   "cell_type": "code",
   "execution_count": null,
   "metadata": {},
   "outputs": [],
   "source": [
    "stop_pts[stop_pts.start_time > datetime(2021, 3, 23, 5, 39, 0)].sort_values(\n",
    "    \"duration_s\", ascending=False\n",
    ").head(\n",
    "    12\n",
    ")  # .style.background_gradient(cmap='Reds')"
   ]
  },
  {
   "cell_type": "markdown",
   "metadata": {},
   "source": [
    "## Continue exploring MovingPandas\n",
    "\n",
    "1. [Bird migration analysis](bird-migration.ipynb)\n",
    "1. [Ship data analysis](ship-data.ipynb)\n",
    "1. [Horse collar data exploration](horse-collar.ipynb)\n",
    "1. [OSM traces](osm-traces.ipynb)\n",
    "1. [Soccer game](soccer-game.ipynb)\n",
    "1. [Mars rover & heli](mars-rover.ipynb)\n",
    "1. [Ever Given](ever-given.ipynb)\n",
    "1. [Iceberg](iceberg.ipynb)\n",
    "1. [Pollution data](pollution-data.ipynb)"
   ]
  }
 ],
 "metadata": {
  "kernelspec": {
   "display_name": "mpd-ex",
   "language": "python",
   "name": "python3"
  },
  "language_info": {
   "codemirror_mode": {
    "name": "ipython",
    "version": 3
   },
   "file_extension": ".py",
   "mimetype": "text/x-python",
   "name": "python",
   "nbconvert_exporter": "python",
   "pygments_lexer": "ipython3",
   "version": "3.10.15"
  }
 },
 "nbformat": 4,
 "nbformat_minor": 4
}
